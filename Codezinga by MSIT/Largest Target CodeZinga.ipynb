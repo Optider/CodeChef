{
 "cells": [
  {
   "cell_type": "markdown",
   "metadata": {},
   "source": [
    "#  Not ACCEPTED BUT is correct 99 %"
   ]
  },
  {
   "cell_type": "code",
   "execution_count": 26,
   "metadata": {},
   "outputs": [
    {
     "name": "stdout",
     "output_type": "stream",
     "text": [
      "3 3\n",
      "1 6 8\n",
      "20\n",
      "8\n",
      "\n"
     ]
    },
    {
     "ename": "ValueError",
     "evalue": "invalid literal for int() with base 10: ''",
     "output_type": "error",
     "traceback": [
      "\u001b[1;31m---------------------------------------------------------------------------\u001b[0m",
      "\u001b[1;31mValueError\u001b[0m                                Traceback (most recent call last)",
      "\u001b[1;32m<ipython-input-26-b535db4abd9d>\u001b[0m in \u001b[0;36m<module>\u001b[1;34m\u001b[0m\n\u001b[0;32m     33\u001b[0m \u001b[1;33m\u001b[0m\u001b[0m\n\u001b[0;32m     34\u001b[0m \u001b[1;32mfor\u001b[0m \u001b[0m_\u001b[0m \u001b[1;32min\u001b[0m \u001b[0mrange\u001b[0m\u001b[1;33m(\u001b[0m\u001b[0mQ\u001b[0m\u001b[1;33m)\u001b[0m \u001b[1;33m:\u001b[0m\u001b[1;33m\u001b[0m\u001b[1;33m\u001b[0m\u001b[0m\n\u001b[1;32m---> 35\u001b[1;33m     \u001b[0mcur_skill\u001b[0m \u001b[1;33m=\u001b[0m \u001b[0mint\u001b[0m\u001b[1;33m(\u001b[0m\u001b[0minput\u001b[0m\u001b[1;33m(\u001b[0m\u001b[1;33m)\u001b[0m\u001b[1;33m)\u001b[0m\u001b[1;33m\u001b[0m\u001b[1;33m\u001b[0m\u001b[0m\n\u001b[0m\u001b[0;32m     36\u001b[0m \u001b[1;33m\u001b[0m\u001b[0m\n\u001b[0;32m     37\u001b[0m     \u001b[1;32mif\u001b[0m \u001b[0mmin_d\u001b[0m \u001b[1;33m>\u001b[0m \u001b[0mcur_skill\u001b[0m \u001b[1;33m:\u001b[0m\u001b[1;33m\u001b[0m\u001b[1;33m\u001b[0m\u001b[0m\n",
      "\u001b[1;31mValueError\u001b[0m: invalid literal for int() with base 10: ''"
     ]
    }
   ],
   "source": [
    "# Author: Anuj Sharma\n",
    "def binary_search(arr, left, right, cur_skill) :\n",
    "    \n",
    "    while True :\n",
    "        mid = (left + right)//2\n",
    "\n",
    "        if arr[mid] == cur_skill :\n",
    "            return mid\n",
    "        if arr[mid] < cur_skill :\n",
    "            left = mid+1\n",
    "        \n",
    "        if left > right :\n",
    "            if mid == 0 :\n",
    "                return -1\n",
    "            return mid\n",
    "        \n",
    "        if arr[mid] > cur_skill :\n",
    "            right = mid - 1\n",
    "\n",
    "        if left > right :\n",
    "            return right\n",
    "\n",
    "N, Q = map(int, input().split())\n",
    "\n",
    "difficulties = list(map(int, input().split()))\n",
    "difficulties.sort()\n",
    "min_d = difficulties[0]\n",
    "max_d = difficulties[-1]\n",
    "\n",
    "# 1 2 4 5 7 8\n",
    "# 6\n",
    "# ans 5\n",
    "\n",
    "for _ in range(Q) :\n",
    "    cur_skill = int(input())\n",
    "\n",
    "    if min_d > cur_skill :\n",
    "        print(-1)\n",
    "        continue\n",
    "    \n",
    "    if max_d <= cur_skill :\n",
    "        print(max_d)\n",
    "        continue\n",
    "    \n",
    "    ans_idx = binary_search(difficulties, 0, len(difficulties)-1, cur_skill)\n",
    "    if ans_idx != -1 :\n",
    "        print(difficulties[ans_idx])\n",
    "    else :\n",
    "        print(-1)\n"
   ]
  },
  {
   "cell_type": "markdown",
   "metadata": {},
   "source": [
    "# Test CASES"
   ]
  },
  {
   "cell_type": "code",
   "execution_count": 24,
   "metadata": {},
   "outputs": [],
   "source": [
    "# 5 1\n",
    "# 1 2 4 7 8\n",
    "# 6\n",
    "# ans 4\n",
    "\n",
    "# 6 1\n",
    "# 1 2 4 5 7 8\n",
    "# 6\n",
    "# ans 5\n",
    "\n",
    "# 5 1\n",
    "# 2 4 5 7 8\n",
    "# 1\n",
    "# ans -1\n",
    "\n",
    "\n",
    "# 3 3\n",
    "# 1 2 3\n",
    "# 1\n",
    "# 2\n",
    "# 3\n",
    "# ans\n",
    "# 1\n",
    "# 2\n",
    "# 3"
   ]
  },
  {
   "cell_type": "code",
   "execution_count": 7,
   "metadata": {},
   "outputs": [
    {
     "name": "stdout",
     "output_type": "stream",
     "text": [
      "3 3\n",
      "1 2 3\n",
      "1\n",
      "1\n",
      "2\n",
      "2\n",
      "3\n",
      "3\n"
     ]
    }
   ],
   "source": [
    "# cook your dish here\n",
    "ans = -1\n",
    "N, Q = map(int, input().split())\n",
    "\n",
    "difficulties = list(map(int, input().split()))\n",
    "for _ in range(Q) :\n",
    "    cur_skill = int(input())\n",
    "    \n",
    "    for i in difficulties :\n",
    "        \n",
    "        if cur_skill >= i and ans < i:\n",
    "            ans = i\n",
    "    print(ans)"
   ]
  }
 ],
 "metadata": {
  "kernelspec": {
   "display_name": "Python 3",
   "language": "python",
   "name": "python3"
  },
  "language_info": {
   "codemirror_mode": {
    "name": "ipython",
    "version": 3
   },
   "file_extension": ".py",
   "mimetype": "text/x-python",
   "name": "python",
   "nbconvert_exporter": "python",
   "pygments_lexer": "ipython3",
   "version": "3.7.3"
  }
 },
 "nbformat": 4,
 "nbformat_minor": 2
}
